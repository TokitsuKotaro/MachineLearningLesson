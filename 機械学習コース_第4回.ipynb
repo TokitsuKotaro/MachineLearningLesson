{
  "nbformat": 4,
  "nbformat_minor": 0,
  "metadata": {
    "colab": {
      "provenance": []
    },
    "kernelspec": {
      "name": "python3",
      "display_name": "Python 3"
    },
    "language_info": {
      "name": "python"
    }
  },
  "cells": [
    {
      "cell_type": "markdown",
      "source": [
        "# 前書き\n",
        "\n",
        "今回は今まで学習した機械学習(主に教師あり学習)のまとめとして、\n",
        "\n",
        "一連の流れのおさらいと今回テクニックについて触れ、本格的なデータセットと\n",
        "\n",
        "完全な未知データを用いた教師あり機械学習の演習を行う。"
      ],
      "metadata": {
        "id": "EcMaZ2N-fv55"
      }
    },
    {
      "cell_type": "markdown",
      "source": [
        "## 1. 教師あり学習の流れ"
      ],
      "metadata": {
        "id": "yE4eXSgHfvxC"
      }
    },
    {
      "cell_type": "markdown",
      "source": [
        "教師ありの機械学習についてまとめると、大きく下記のステップに分けられる。\n",
        "\n",
        "- ステップ１．データの収集とデータの理解\n",
        "- ステップ２．教師あり学習に向けたデータの変換と作成\n",
        "- ステップ３．学習器の作成\n",
        "\n",
        "これらについて今まで学んだ内容を下記にまとめ、さらなる精度向上のヒントとなる\n",
        "\n",
        "テクニックについて触れる。"
      ],
      "metadata": {
        "id": "EEZWb5DOiLrI"
      }
    },
    {
      "cell_type": "markdown",
      "source": [
        "## 1-1. ステップ１．データの収集とデータの理解\n",
        "\n",
        "このステップは下記3つに細分化される。\n",
        "\n",
        "- データの収集\n",
        "- 整然データの作成\n",
        "- データの分析・考察"
      ],
      "metadata": {
        "id": "b9ecV-H0isKD"
      }
    },
    {
      "cell_type": "markdown",
      "source": [
        "### データの収集\n",
        "\n",
        "機械学習を行うにあたり、実務においてはデータを集めることからはめる。\n",
        "\n",
        "そして、機械学習で高い精度を出すために最も重要な作業はデータの収集といっても過言ではない。\n",
        "\n",
        "なぜなら、何らかの予測を行うためには目的変数と関連性のある説明変数が必要となるため、\n",
        "\n",
        "関連性のないデータを大量に集めたとしても意味がない。\n",
        "\n",
        "達成したい目的に沿ったデータをいかに集められるかが、より高い精度を出すために重要である。"
      ],
      "metadata": {
        "id": "hN8i-wEllTdP"
      }
    },
    {
      "cell_type": "markdown",
      "source": [
        "### 整然データの作成\n",
        "\n",
        "データを集めた後は欠損値の処理やデータの結合等を行い、データ分析や機械学習が行いやすい形に\n",
        "\n",
        "変換する必要がある。\n",
        "\n",
        "なお、今までに使ってきた練習用のデータは最初から整然データであった。\n",
        "\n",
        "Pythonにおいては、主にPandasの機能を用いて整然データを作成する。"
      ],
      "metadata": {
        "id": "2LMJgZxzlz2X"
      }
    },
    {
      "cell_type": "markdown",
      "source": [
        "### データの分析・考察\n",
        "\n",
        "集めたデータを整然データにした後は、集めたデータに対する理解を深めることが重要となる。\n",
        "\n",
        "データ収集の項目で述べた様に、関連性のないデータであれば意味がないため、\n",
        "\n",
        "データの分析と考察を行い再度データの収集に戻る必要があるかどうかを判断する必要がある。\n",
        "\n",
        "また、有用なデータであった場合、この作業でデータの特徴を正しく把握することにより、\n",
        "\n",
        "この後に続くステップにおいて適切な判断ができる様になり、精度向上に貢献する。\n",
        "\n",
        "少ないコードでデータの理解を深めるために有用な分析方法として、例えば下記があげられる。\n",
        "\n",
        "- データフレームオブジェクトのcorr()メソッド(変数間の相関)\n",
        "- pandas.plottingのscatter_matrix()関数(各変数のヒストグラムと変数間の散布図)\n",
        "- pandas_profilingのProfileReport()関数(基本的な分析レポートの作成)\n",
        "- DBSCANやt-SNEといった教師なし学習を用いた可視化や分析"
      ],
      "metadata": {
        "id": "92NICDWimMgq"
      }
    },
    {
      "cell_type": "markdown",
      "source": [
        "## 1-2. ステップ２．教師あり学習に向けたデータの変換と作成"
      ],
      "metadata": {
        "id": "brIcwch2nn-o"
      }
    },
    {
      "cell_type": "markdown",
      "source": [
        "ステップ１の後は、具体的な教師あり学習に向けたステップへと移る。\n",
        "\n",
        "このステップは下記３つに細分化される。\n",
        "\n",
        "- 訓練データとテストデータに分割\n",
        "- 前処理\n",
        "- 特徴量の作成"
      ],
      "metadata": {
        "id": "6lyEXKERny6J"
      }
    },
    {
      "cell_type": "markdown",
      "source": [
        "### 訓練データのテストデータに分割\n",
        "\n",
        "教師あり学習は未知のデータに対して正しく予測できることを重視する。\n",
        "\n",
        "そのため、訓練データとテストデータに分割し、訓練データを用いて学習モデルを構築する。\n",
        "\n",
        "その後、疑似的な未知データであるテストデータを用いて精度の確認を行う。"
      ],
      "metadata": {
        "id": "OlvvLnfvoCuf"
      }
    },
    {
      "cell_type": "markdown",
      "source": [
        "分割時に注意しなければならない点としては、訓練データとテストデータの比率や、\n",
        "\n",
        "データの偏りがあげられる。\n",
        "\n",
        "特にデータセットの規模が小さい時や、不均衡なデータセットを扱う際には、偶然精度が高くなるといった現象が発生しやすいため、注意深く行う必要がある。"
      ],
      "metadata": {
        "id": "V45EO8BaocY6"
      }
    },
    {
      "cell_type": "markdown",
      "source": [
        "実際に分割を行うコードとしては、sklearn.model_selectionのtrain_test_split関数が利用される。"
      ],
      "metadata": {
        "id": "mf08x7Pbo0st"
      }
    },
    {
      "cell_type": "markdown",
      "source": [
        "### 前処理\n",
        "\n",
        "前処理とは、この後のステップで行う学習器の作成の前に行う特徴量の変換や\n",
        "\n",
        "特徴量選択（不要な説明変数の削除）といった処理のことを指す。\n",
        "\n",
        "特徴量の変換は、具体的には下記にあげる処理がある。\n",
        "\n",
        "- スケーリング処理\n",
        "- 分布形状の変換処理\n",
        "- 外れ値の処理(clipping)\n",
        "- 順位づけ処理\n",
        "- 数値変数をカテゴリ変数に変換(binning)\n",
        "- カテゴリ変数の変換処理"
      ],
      "metadata": {
        "id": "z-5ZgTqRqBFp"
      }
    },
    {
      "cell_type": "markdown",
      "source": [
        "### スケーリング処理\n",
        "\n",
        "スケーリング処理は各特徴量の単位や値の大きさといったスケールを統一するための処理のことである。\n",
        "\n",
        "平均0、分散1のスケールに調整するsklearn.preprocessingのStandardScalerクラスや、\n",
        "\n",
        "最小0、最大1のスケールに調整するMinMaxScalerクラスがある。"
      ],
      "metadata": {
        "id": "Tgfc40rLqprw"
      }
    },
    {
      "cell_type": "markdown",
      "source": [
        "### 分布形状の変換処理\n",
        "\n",
        "スケーリング処理は特徴量の値が伸縮するだけであるため、分布形状は変わらない。\n",
        "\n",
        "場合によっては、分布の形状事態を変換すると精度が上がることもある。\n",
        "\n",
        "具体的には、正規分布に近づく様に分布の形状変換を行うことが多く、\n",
        "\n",
        "sklearn.preprocessingに用意されているPowerTransformerクラスで行うことができる。"
      ],
      "metadata": {
        "id": "a90IiIWwrFGX"
      }
    },
    {
      "cell_type": "markdown",
      "source": [
        "### 外れ値の処理(clipping)\n",
        "\n",
        "学習アルゴリズムによっては、外れ値の影響を受けることも多い。\n",
        "\n",
        "そのような場合、特徴量の値の上限と下限を定め、それ以上やそれ以下の値を上限値や下限値に\n",
        "\n",
        "置き換えることが有効になる。\n",
        "\n",
        "ndarrayやデータフレームオブジェクトが持つquantileメソッド(分位数の取得)と\n",
        "\n",
        "clipメソッド(上限値と下限値の置き換え)を用いて変換することが可能。"
      ],
      "metadata": {
        "id": "6Sw-tEG1rxZU"
      }
    },
    {
      "cell_type": "markdown",
      "source": [
        "### 順位づけ処理\n",
        "\n",
        "順位づけ処理とは、数値特徴量が持つ数値の大きさや間隔といった情報を捨て、\n",
        "\n",
        "値の大小関係からなる順位に変換する処理のことである。\n",
        "\n",
        "データフレームオブジェクトのrankメソッドで行うことができる。"
      ],
      "metadata": {
        "id": "gFgQxqf4wl91"
      }
    },
    {
      "cell_type": "markdown",
      "source": [
        "### 数値変数をカテゴリ変数に変換(binning)\n",
        "\n",
        "ある数値特徴量を区間ごとにグループ分けし、カテゴリ変数として扱う変数をbinningと呼ぶ。\n",
        "\n",
        "pandasのcut関数でbinningを行うことができる。\n",
        "\n",
        "また、後述のカテゴリ変数の変換処理と組み合わせることも可能。"
      ],
      "metadata": {
        "id": "k_BjcsmBxBH4"
      }
    },
    {
      "cell_type": "markdown",
      "source": [
        "### カテゴリ変数の変換処理\n",
        "\n",
        "A, B, C, ...といったカテゴリを表す変数がある場合、そのままでは学習に使えないため\n",
        "\n",
        "数値に変換する必要がある。\n",
        "\n",
        "最も代表的で一般的なカテゴリ変数の変換にone-hot encodingがある。\n",
        "\n",
        "one-hot encodingは、下記に示すように各カテゴリごとに特徴量を作り、0と1で表現する。\n",
        "\n",
        "![image.png](data:image/png;base64,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)"
      ],
      "metadata": {
        "id": "cdfFj10ZxmLx"
      }
    },
    {
      "cell_type": "markdown",
      "source": [
        "この処理は、pandasのget_dummies関数で行うことができる。"
      ],
      "metadata": {
        "id": "dbrGa_2kyVqB"
      }
    },
    {
      "cell_type": "markdown",
      "source": [
        "### 特徴量の作成\n",
        "\n",
        "より精度の高い学習モデルを作成するために、既存のデータから新しい特徴量を作成することが\n",
        "\n",
        "有効になる場合がある。\n",
        "\n",
        "例えば、身長と体重からBMIを計算して新しい特徴量にする（他の特徴量を用いた計算による生成）、\n",
        "\n",
        "k-平均法から生成する各重心からの距離行列を新しい特徴量にする（クラスタイングを用いた特徴量生成）、\n",
        "\n",
        "主成分分析を行い第１主成分、第２主成分を新しい特徴量にする（次元削減を用いた特徴量生成）、\n",
        "\n",
        "などがあげられる。"
      ],
      "metadata": {
        "id": "nCWfEAMeydAI"
      }
    },
    {
      "cell_type": "markdown",
      "source": [
        "既存の特徴量から独自の計算により新しい特徴量を生成する際、\n",
        "\n",
        "データ間の意味や目的変数との関係を正しく捉えていなければ精度向上には役立たないため、\n",
        "\n",
        "データへの深い理解と考察が重要になる。"
      ],
      "metadata": {
        "id": "tsDit1MizJxA"
      }
    },
    {
      "cell_type": "markdown",
      "source": [
        "## 1-3. ステップ３．学習器の作成"
      ],
      "metadata": {
        "id": "EGb8hXqdzwlW"
      }
    },
    {
      "cell_type": "markdown",
      "source": [
        "ステップ２を経てデータを用意した後は、学習器の作成となる。\n",
        "\n",
        "このステップを細分化すると下記の２つとなる。\n",
        "\n",
        "- アルゴリズム選択\n",
        "- パフォーマンスチューニング\n",
        "\n",
        "なお、アルゴリズムごとに特徴やデータセットとの相性があるため、\n",
        "\n",
        "思うような精度が出ない場合ステップ２に戻ることも多い。"
      ],
      "metadata": {
        "id": "rrDs2ht2z2xH"
      }
    },
    {
      "cell_type": "markdown",
      "source": [
        "### アルゴリズム選択\n",
        "\n",
        "高い精度を追求する場合、最終的にはランダムフォレストや勾配ぶースティングといった\n",
        "\n",
        "アンサンブル学習アルゴリズムを選択することが一般的である。\n",
        "\n",
        "その前段階として、どれくらいの精度を出せそうかを見積もるために、k-最近傍法を用いることが多い。"
      ],
      "metadata": {
        "id": "l5wyVjHq0Q1H"
      }
    },
    {
      "cell_type": "markdown",
      "source": [
        "### パフォーマンスチューニング\n",
        "\n",
        "未知データに対するアルゴリズムの予測性能を最大限引き出すために、\n",
        "\n",
        "適切なチューニング作業が必要となる。\n",
        "\n",
        "主には、過学習に注意しながらハイパーパラメータを調整する作業である。\n",
        "\n",
        "特にアンサンブル学習アルゴリズムのような複雑なアルゴリズムは、ハイパーパラメータの影響が強く、\n",
        "\n",
        "適切にチューニングすることが重要となる。"
      ],
      "metadata": {
        "id": "Dlo9ZGUU0vtG"
      }
    },
    {
      "cell_type": "markdown",
      "source": [
        "チューニングに便利なクラスとして、sklearn.model_selectionのGridSearchCVがある。\n",
        "\n",
        "交差検証法による学習モデル構築とハイパーパラメータの探索が行える。"
      ],
      "metadata": {
        "id": "wx5OdtUv1Ofv"
      }
    },
    {
      "cell_type": "markdown",
      "source": [
        "# 2. 演習および課題"
      ],
      "metadata": {
        "id": "Ns3wKg851x1K"
      }
    },
    {
      "cell_type": "markdown",
      "source": [
        "## 2-1. 演習"
      ],
      "metadata": {
        "id": "ufqrY8oj11Tn"
      }
    },
    {
      "cell_type": "markdown",
      "source": [
        "### 演習1.\n",
        "\n",
        "30メートル四方を1つのセルとした地理データが記述されたデータセット、\n",
        "\n",
        "Forest_CoverType_data.csvとForest_CoverType_unknown.csvがある。\n",
        "\n",
        "Forest_CoverType_data.csvは7種類の森林被覆タイプ(Cover_Type列、1～7)が既知のデータセットであり、\n",
        "\n",
        "Forest_CoverType_unknown.csvは森林被覆タイプが未知のデータセットである。"
      ],
      "metadata": {
        "id": "9GtmYfZV15r4"
      }
    },
    {
      "cell_type": "markdown",
      "source": [
        "Forest_CoverType_data.csvを用い森林被覆タイプを分類予測するプログラムを作成し、\n",
        "\n",
        "Forest_CoverType_unknown.csvの各行の森林被覆タイプを予測せよ。"
      ],
      "metadata": {
        "id": "zZCpDivP2pqC"
      }
    },
    {
      "cell_type": "markdown",
      "source": [
        "Forest_CoverType_unknown.csvにはID列がある。これを用い、予測した結果は\n",
        "\n",
        "下記の形式でForest_CoverType_submit.csvとして出力し、そのファイルを提出せよ。\n",
        "\n",
        "![image.png](data:image/png;base64,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)"
      ],
      "metadata": {
        "id": "av6kVkqI3pTN"
      }
    },
    {
      "cell_type": "markdown",
      "source": [
        "下記に提出ファイル出力までのサンプルプログラムを示す。"
      ],
      "metadata": {
        "id": "KuNNJeVQ3-61"
      }
    },
    {
      "cell_type": "markdown",
      "source": [
        "Forest_CoverType_data.csvは[ここ](https://github.com/TokitsuKotaro/MachineLearningLesson/blob/main/Forest_CoverType_data.csv)からダウンロードできる。\n",
        "\n",
        "Forest_CoverType_unknown.csvは[ここ](https://github.com/TokitsuKotaro/MachineLearningLesson/blob/main/Forest_CoverType_unknown.csv)からダウンロードできる。"
      ],
      "metadata": {
        "id": "FBY0JOLhBLe_"
      }
    },
    {
      "cell_type": "code",
      "execution_count": null,
      "metadata": {
        "id": "P1H48z2iekcr"
      },
      "outputs": [],
      "source": [
        "import numpy as np\n",
        "import matplotlib.pyplot as plt\n",
        "import pandas as pd\n",
        "\n",
        "from sklearn.model_selection import train_test_split\n",
        "from sklearn.neighbors import KNeighborsClassifier\n",
        "\n",
        "df = pd.read_csv(\"Forest_CoverType_data.csv\")\n",
        "\n",
        "X = df.drop(\"Cover_Type\", axis=1)\n",
        "y = df[\"Cover_Type\"]\n",
        "\n",
        "X_train, X_test, y_train, y_test = train_test_split(X, y, random_state=0)\n",
        "\n",
        "model = KNeighborsClassifier()\n",
        "model.fit(X_train, y_train)\n",
        "\n",
        "score = model.score(X_train, y_train)\n",
        "print(\"train score: {}\".format(score))\n",
        "score = model.score(X_test, y_test)\n",
        "print(\"test score: {}\".format(score))\n",
        "\n",
        "# 未知データの読み込み\n",
        "df_unknown = pd.read_csv(\"Forest_CoverType_unknown.csv\")\n",
        "\n",
        "# ID列は予測に使わないため削除\n",
        "X_unknown = df_unknown.drop(\"ID\", axis=1)\n",
        "\n",
        "# 前処理や特徴量作成を行っている場合はここで適切に変換処理を行う\n",
        "\n",
        "# .predictメソッドで予測\n",
        "y_pred = model.predict(X_unknown)\n",
        "\n",
        "# 予測値でCover_Type列を作成\n",
        "df_unknown[\"Cover_Type\"] = y_pred\n",
        "\n",
        "# 提出用のファイル作成\n",
        "df_output = df_unknown[[\"ID\", \"Cover_Type\"]]\n",
        "df_output.to_csv(\"Forest_CoverType_submit.csv\", header=True, index=False)"
      ]
    },
    {
      "cell_type": "markdown",
      "source": [
        "![image.png](data:image/png;base64,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)"
      ],
      "metadata": {
        "id": "QBbGsvUy8deh"
      }
    },
    {
      "cell_type": "markdown",
      "source": [
        "各列名の意味は下記のとおりである。\n",
        "\n",
        "|列名|意味|単位|\n",
        "|---|---|---|\n",
        "|Elevation|標高|メートル|\n",
        "|Aspect|方位角|度|\n",
        "|Slope|勾配|度|\n",
        "|Horizontal_Distance_To_Hydrology|最も近い地表水までの水平方向の距離|メートル|\n",
        "|Vertical_Distance_To_Hydrology|最も近い地表水までの垂直方向の距離|メートル|\n",
        "|Horizontal_Distance_To_Roadways|最も近い車道までの水平方向の距離|メートル|\n",
        "|Hillshade_9am|夏至の午前9時における明るさ|0~255の明るさ|\n",
        "|Hillshade_noon|夏至の正午における明るさ|0~255の明るさ|\n",
        "|Hillshade_3pm|夏至の午後3時における明るさ|0~255の明るさ|\n",
        "|Horizontal_Distance_To_Fire_Points|最も近い山火事が発生した地点までの水平方向の距離|メートル|\n",
        "|Wilderness_Area_1~4|原野地域タイプのone-hot表現|0, 1|\n",
        "|Soil_Type_1~40|土壌タイプのone-hot表現|0, 1|\n",
        "|Cover_Type|森林被覆タイプ|1~7のカテゴリ|\n",
        "\n",
        "データ数は多いため、計算量の高いアルゴリズムやハイパーパラメータの探索数が多いと非常に時間がかかる。"
      ],
      "metadata": {
        "id": "IUar-MAB8kR5"
      }
    },
    {
      "cell_type": "markdown",
      "source": [
        "## 2-2. 課題"
      ],
      "metadata": {
        "id": "HKmlw1E4_lfM"
      }
    },
    {
      "cell_type": "markdown",
      "source": [
        "### 課題１．\n",
        "\n",
        "演習のタスクにおいて、より高い精度の予測プログラムを柵瀬せよ。\n",
        "\n",
        "予測結果はForest_CoverType_submit.csvとして提出せよ。\n",
        "\n",
        "GoogleColabの場合、リソースや実行時間の制限等があるため、非常に時間のかかるプログラムを\n",
        "\n",
        "実行する場合には手元の環境で実行することを推奨する。"
      ],
      "metadata": {
        "id": "s4vHRri4_orp"
      }
    }
  ]
}