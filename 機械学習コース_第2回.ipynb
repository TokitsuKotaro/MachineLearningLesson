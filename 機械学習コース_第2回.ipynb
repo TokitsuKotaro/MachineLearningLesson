{
  "nbformat": 4,
  "nbformat_minor": 0,
  "metadata": {
    "colab": {
      "provenance": []
    },
    "kernelspec": {
      "name": "python3",
      "display_name": "Python 3"
    },
    "language_info": {
      "name": "python"
    }
  },
  "cells": [
    {
      "cell_type": "markdown",
      "source": [
        "# 前書き\n",
        "\n",
        "前回学んだ教師あり学習の基礎に引き続き、今回はより発展的な教師あり学習の話題について解説する。"
      ],
      "metadata": {
        "id": "x--SQvVKk_Ru"
      }
    },
    {
      "cell_type": "markdown",
      "source": [
        "# 1. 汎化性能とパフォーマンスチューニング\n",
        "\n",
        "前回学んだように、教師あり学習の目的は未知のデータに対して正しい予測ができることである。\n",
        "\n",
        "作成した学習モデルが未知データに対して正しく予測できる性\n",
        "能のことを汎化性能と呼ぶ。\n",
        "\n",
        "本章では、汎化性能および汎化性能を向上させるためのパフォーマンスチューニングについて説明する。"
      ],
      "metadata": {
        "id": "q1Np9QeUlGFu"
      }
    },
    {
      "cell_type": "markdown",
      "source": [
        "## 1-1. 過学習(オーバーフィッティング)\n",
        "\n",
        "過学習(オーバーフィッティング)とは、訓練データに対する予測精度は高いが、\n",
        "\n",
        "テストデータ(未知データ)に対する予測精度が低い状態のことを言う。\n",
        "\n",
        "下記に過学習となっている学習モデルを示す。\n",
        "\n",
        "使用しているデータ( breast_cancer.csv )は、\n",
        "\n",
        "目的変数が乳がんの悪性、良性(target列)を意味し、\n",
        "\n",
        "説明変数(他の列)が診察データとなっている。"
      ],
      "metadata": {
        "id": "5IOxHmMDlOoo"
      }
    },
    {
      "cell_type": "markdown",
      "source": [
        "breast_cancer.csvは[ここ](https://github.com/TokitsuKotaro/MachineLearningLesson/blob/main/breast_cancer.csv)からダウンロードできる。"
      ],
      "metadata": {
        "id": "wzdJDyfRxpFs"
      }
    },
    {
      "cell_type": "code",
      "source": [
        "import numpy as np\n",
        "import matplotlib.pyplot as plt\n",
        "import pandas as pd\n",
        "from sklearn.model_selection import train_test_split\n",
        "from sklearn.tree import DecisionTreeClassifier\n",
        "\n",
        "df = pd.read_csv(\"breast_cancer.csv\")\n",
        "X = df.drop(\"target\", axis=1)\n",
        "y = df[\"target\"]\n",
        "X_train, X_test, y_train, y_test = train_test_split(X, y, test_size=0.25, random_state = 0)\n",
        "\n",
        "# 木の最大深さを10にして分類木を作成\n",
        "model = DecisionTreeClassifier(max_depth=10, random_state=0)\n",
        "model.fit(X_train, y_train)\n",
        "score = model.score(X_train, y_train)\n",
        "print(\"train score: {}\".format(score))\n",
        "score = model.score(X_test, y_test)\n",
        "print(\"test score: {}\".format(score))"
      ],
      "metadata": {
        "colab": {
          "base_uri": "https://localhost:8080/"
        },
        "id": "lOrG1yPflMPx",
        "outputId": "5f462d68-beda-4214-de8d-a8d444428863"
      },
      "execution_count": null,
      "outputs": [
        {
          "output_type": "stream",
          "name": "stdout",
          "text": [
            "train score: 1.0\n",
            "test score: 0.8811188811188811\n"
          ]
        }
      ]
    },
    {
      "cell_type": "markdown",
      "source": [
        "決定木(分類木)のハイパーパラメータを max_depth = 10 に設定した学習を行っている。\n",
        "\n",
        "前回はテストデータのスコアに着目していたが、今回は訓練データに対するスコアも表示している。\n",
        "\n",
        "これ見ると、訓練データには100%の精度で予測ができ、テストデータには約88%の精度で予測できていることがわかる。\n",
        "\n",
        "テストデータの88%が高いか低いかはタスクによるため一概に言えないが、\n",
        "\n",
        "分類タスクにおいて訓練データの精度が100%やそれに近い状態は一般的に過学習を疑う。\n",
        "\n",
        "過学習となっているかどうかの確認方法の一つとして、ハイパーパラメータを変えながら訓練データとテストデータの予測精度のバランスを見る方法がある。\n",
        "\n",
        "下記に max_depth を1〜10に動かし、訓練データとテストデータのスコアを可視化するコードを示す。"
      ],
      "metadata": {
        "id": "W6s7YusOlgba"
      }
    },
    {
      "cell_type": "code",
      "source": [
        "import numpy as np\n",
        "import matplotlib.pyplot as plt\n",
        "import pandas as pd\n",
        "from sklearn.model_selection import train_test_split\n",
        "from sklearn.tree import DecisionTreeClassifier\n",
        "\n",
        "df = pd.read_csv(\"breast_cancer.csv\")\n",
        "\n",
        "X = df.drop(\"target\", axis=1)\n",
        "y = df[\"target\"]\n",
        "X_train, X_test, y_train, y_test = train_test_split(X, y, test_size=0.25, random_state = 0)\n",
        "train_scores = []\n",
        "test_scores = []\n",
        "\n",
        "# 木の最大深さを1〜10にして分類木を作成\n",
        "for md in range(1, 11):\n",
        "  model = DecisionTreeClassifier(max_depth=md, random_state=0)\n",
        "  model.fit(X_train, y_train)\n",
        "  train_score = model.score(X_train, y_train)\n",
        "  test_score = model.score(X_test, y_test)\n",
        "  print(\"max_depth = {}, train score: {}, test score: {}\".format(md, train_score, test_score))\n",
        "  train_scores.append(train_score)\n",
        "  test_scores.append(test_score)\n",
        "\n",
        "plt.plot(range(1, 11), train_scores, 'o-', label=\"train score\")\n",
        "plt.plot(range(1, 11), test_scores, 'x-', label=\"test score\")\n",
        "\n",
        "plt.xlabel('max_depth')\n",
        "plt.ylabel('score')\n",
        "\n",
        "plt.legend()\n",
        "plt.grid()\n",
        "plt.show()"
      ],
      "metadata": {
        "colab": {
          "base_uri": "https://localhost:8080/",
          "height": 624
        },
        "id": "WPiCyMtFlp_B",
        "outputId": "3652c34b-6047-4bb2-c2e8-cedb863316c3"
      },
      "execution_count": null,
      "outputs": [
        {
          "output_type": "stream",
          "name": "stdout",
          "text": [
            "max_depth = 1, train score: 0.9225352112676056, test score: 0.8811188811188811\n",
            "max_depth = 2, train score: 0.9413145539906104, test score: 0.9370629370629371\n",
            "max_depth = 3, train score: 0.9765258215962441, test score: 0.9370629370629371\n",
            "max_depth = 4, train score: 0.9929577464788732, test score: 0.9020979020979021\n",
            "max_depth = 5, train score: 0.9929577464788732, test score: 0.8951048951048951\n",
            "max_depth = 6, train score: 0.9976525821596244, test score: 0.9230769230769231\n",
            "max_depth = 7, train score: 0.9976525821596244, test score: 0.9230769230769231\n",
            "max_depth = 8, train score: 1.0, test score: 0.8811188811188811\n",
            "max_depth = 9, train score: 1.0, test score: 0.8811188811188811\n",
            "max_depth = 10, train score: 1.0, test score: 0.8811188811188811\n"
          ]
        },
        {
          "output_type": "display_data",
          "data": {
            "text/plain": [
              "<Figure size 640x480 with 1 Axes>"
            ],
            "image/png": "[encoded data removed]"
          },
          "metadata": {}
        }
      ]
    },
    {
      "cell_type": "markdown",
      "source": [
        "このグラフを見ると、max_depthが3以上の学習モデルはテストデータの精度と訓練データの精度が大きく乖離しており、\n",
        "\n",
        "テストデータの精度もピークを過ぎていることがわかる。\n",
        "\n",
        "このことから、最初に実行した max_depth=10 の分類木はテストデータに比べ\n",
        "\n",
        "過剰に訓練データに適合している状態(=過学習)と言える。\n",
        "\n",
        "一般に、テストデータのスコアが良い事に加え、訓練データのスコアとテストデータのスコアの差が小さいと適度な学習が行われていると判断されることが多い。"
      ],
      "metadata": {
        "id": "Y-ufv-7xlz3S"
      }
    },
    {
      "cell_type": "markdown",
      "source": [
        "なお、過学習とは逆に訓練データもテストデータも精度が低い状態を適合不足(学習不足)と呼ぶ。\n",
        "\n",
        "上記で言うと、 max_depth=1 のような状態を指す。"
      ],
      "metadata": {
        "id": "8gwzA07-mIWA"
      }
    },
    {
      "cell_type": "markdown",
      "source": [
        "## 1-2. ホールドアウト法と交差検証法\n",
        "\n",
        "今までは未知のデータに対する予測精度を確かめるため、データを訓練データとテストデータに分け、\n",
        "\n",
        "訓練データで学習した後テストデータで予測精度を評価する、という流れで学習モデルを構築した。\n",
        "\n",
        "このモデルの構築と評価方法をホールドアウト法と言う。\n",
        "\n",
        "![image.png](data:image/png;base64,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)"
      ],
      "metadata": {
        "id": "-u0J3qHEmL1y"
      }
    },
    {
      "cell_type": "markdown",
      "source": [
        "ホールドアウト法は十分なデータ量を確保し、かつ過学習などに気をつければ、シンプルな評価方法として十分機能する。\n",
        "\n",
        "ただし、複雑なアルゴリズムのハイパーパラメータチューニングや、データが少ないまたは偏りがある場合に、過学習を見過ごしたり偶然テスト結果がよかったというケースが発生することがある。\n",
        "\n",
        "\n",
        "そこでより実践的な評価方法として、交差検証法(cross-validation)がある。\n",
        "\n",
        "代表的な交差検証法としてk-分割交差検証(k-fold cross-validation)があげられる。\n",
        "\n",
        "k-分割交差検証はデータをk個のブロックに分け、そのうち1つを検証用データ、残り(k-1個)を学習用データとし、各ブロックが1回ずつ検証用データとなるように学習と検証を繰り返す。\n",
        "\n",
        "検証のパターンがブロックの数と同じk個あるため、都合k回学習と検証を行う。\n",
        "\n",
        "主にその平均値で学習アルゴリズムとハイパーパラメータの妥当性を評価する。\n",
        "\n",
        "下記にイメージと実装例を示す。\n",
        "\n",
        "![image.png](data:image/png;base64,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)"
      ],
      "metadata": {
        "id": "SQqgDcBYnC9J"
      }
    },
    {
      "cell_type": "code",
      "source": [
        "import numpy as np\n",
        "import matplotlib.pyplot as plt\n",
        "import pandas as pd\n",
        "from sklearn.model_selection import train_test_split\n",
        "from sklearn.tree import DecisionTreeClassifier\n",
        "from sklearn.model_selection import cross_val_score\n",
        "\n",
        "df = pd.read_csv(\"breast_cancer.csv\")\n",
        "X = df.drop(\"target\", axis=1)\n",
        "y = df[\"target\"]\n",
        "X_train, X_test, y_train, y_test = train_test_split(X, y, test_size=0.25, random_state = 0)\n",
        "means = []\n",
        "lowers = []\n",
        "\n",
        "for md in range(1, 11):\n",
        "  print(\"max_depth = {}\".format(md))\n",
        "  model = DecisionTreeClassifier(max_depth=md, random_state=0)\n",
        "  scores = cross_val_score(model, X_train, y_train, cv=5) # 5-分割交差検証でクロスバリデーション\n",
        "  print(\"scores = {}\".format(scores)) # k回学習と検証した結果のスコアを表示\n",
        "  print(\"mean = {}, std = {}, maen - std = {}\".format(scores.mean(), scores.std(), scores.mean() - scores.std()))\n",
        "  means.append(scores.mean())\n",
        "  lowers.append(scores.mean() - scores.std())\n",
        "\n",
        "# 描画処理\n",
        "plt.plot(range(1, 11), means, 'o-', label=\"mean\")\n",
        "plt.plot(range(1, 11), lowers, 'x-', label=\"mean - std\")\n",
        "\n",
        "plt.xlabel('max_depth')\n",
        "plt.ylabel('scores mean')\n",
        "\n",
        "plt.legend()\n",
        "plt.grid()\n",
        "plt.show()"
      ],
      "metadata": {
        "colab": {
          "base_uri": "https://localhost:8080/",
          "height": 971
        },
        "id": "onHmLqiNmGOD",
        "outputId": "5ee67a7d-0de5-43ac-e23a-60bb4e4428e7"
      },
      "execution_count": null,
      "outputs": [
        {
          "output_type": "stream",
          "name": "stdout",
          "text": [
            "max_depth = 1\n",
            "scores = [0.88372093 0.89411765 0.89411765 0.90588235 0.85882353]\n",
            "mean = 0.8873324213406292, std = 0.015886965257808236, maen - std = 0.871445456082821\n",
            "max_depth = 2\n",
            "scores = [0.89534884 0.89411765 0.91764706 0.91764706 0.88235294]\n",
            "mean = 0.9014227086183311, std = 0.014002649375958036, maen - std = 0.887420059242373\n",
            "max_depth = 3\n",
            "scores = [0.90697674 0.90588235 0.92941176 0.91764706 0.89411765]\n",
            "mean = 0.9108071135430917, std = 0.011919573685795872, maen - std = 0.8988875398572959\n",
            "max_depth = 4\n",
            "scores = [0.90697674 0.89411765 0.91764706 0.90588235 0.88235294]\n",
            "mean = 0.9013953488372092, std = 0.012091166114493465, maen - std = 0.8893041827227157\n",
            "max_depth = 5\n",
            "scores = [0.90697674 0.90588235 0.94117647 0.91764706 0.87058824]\n",
            "mean = 0.908454172366621, std = 0.022794228225050756, maen - std = 0.8856599441415702\n",
            "max_depth = 6\n",
            "scores = [0.91860465 0.88235294 0.95294118 0.90588235 0.89411765]\n",
            "mean = 0.9107797537619697, std = 0.024283774799259732, maen - std = 0.88649597896271\n",
            "max_depth = 7\n",
            "scores = [0.91860465 0.88235294 0.91764706 0.88235294 0.91764706]\n",
            "mean = 0.9037209302325581, std = 0.017450393556569042, maen - std = 0.886270536675989\n",
            "max_depth = 8\n",
            "scores = [0.91860465 0.88235294 0.91764706 0.88235294 0.91764706]\n",
            "mean = 0.9037209302325581, std = 0.017450393556569042, maen - std = 0.886270536675989\n",
            "max_depth = 9\n",
            "scores = [0.91860465 0.88235294 0.91764706 0.88235294 0.91764706]\n",
            "mean = 0.9037209302325581, std = 0.017450393556569042, maen - std = 0.886270536675989\n",
            "max_depth = 10\n",
            "scores = [0.91860465 0.88235294 0.91764706 0.88235294 0.91764706]\n",
            "mean = 0.9037209302325581, std = 0.017450393556569042, maen - std = 0.886270536675989\n"
          ]
        },
        {
          "output_type": "display_data",
          "data": {
            "text/plain": [
              "<Figure size 640x480 with 1 Axes>"
            ],
            "image/png": "[encoded data removed]"
          },
          "metadata": {}
        }
      ]
    },
    {
      "cell_type": "markdown",
      "source": [
        "k-分割交差検証を行うための関数として、 cross_val_score 関数がある。\n",
        "\n",
        "引数に、 (学習器, 説明変数データ, 目的変数データ, cv=k) を指定する。\n",
        "\n",
        "結果の評価には、交差検証の各回の学習と検証結果の平均値、または標準偏差が大きい場合には平均値から標準偏差を引いた値で評価する。\n",
        "\n",
        "このk-分割交差検証によれば、 max_depth=3 が一番高い汎化性能を持っていると主張している。\n",
        "\n",
        "先ほどの過学習の項目で触れた内容と合わせ、max_depthは2, 3あたりが良いと考察できる。"
      ],
      "metadata": {
        "id": "y8wZD1_QnnfX"
      }
    },
    {
      "cell_type": "markdown",
      "source": [
        "## 1-3. グリッドサーチ\n",
        "\n",
        "汎化性能を高めるためのそもそもの手段として、ハイパーパラメータをチューニングすることがあげられる。\n",
        "\n",
        "先ほどまで決定木におけるハイパーパラメータとし\n",
        "て max_depth を使っていたが、\n",
        "\n",
        "決定木は他にも min_samples_split (決定木のノードを分割するために必要な最小のサンプル数)や\n",
        "\n",
        "min_samples_leaf (決定木の葉を構成するために必要な最小のサンプル数)などがある。\n",
        "\n",
        "これらのパラメータを探索するコードを書くと、下記のようになる。"
      ],
      "metadata": {
        "id": "B4eVivs7nw7d"
      }
    },
    {
      "cell_type": "code",
      "source": [
        "import numpy as np\n",
        "import matplotlib.pyplot as plt\n",
        "import pandas as pd\n",
        "from sklearn.model_selection import train_test_split\n",
        "from sklearn.tree import DecisionTreeClassifier\n",
        "\n",
        "df = pd.read_csv(\"breast_cancer.csv\")\n",
        "X = df.drop(\"target\", axis=1)\n",
        "y = df[\"target\"]\n",
        "X_train, X_test, y_train, y_test = train_test_split(X, y, test_size=0.25, random_state = 0)\n",
        "\n",
        "# 探索するハイパーパラメータ\n",
        "max_depths = [2, 3, 4]\n",
        "min_samples_splits = [2, 3, 4]\n",
        "min_samples_leafs = [1, 2, 3]\n",
        "max_score = 0\n",
        "max_parameters = {}\n",
        "for md in max_depths:\n",
        "  for mss in min_samples_splits:\n",
        "    for msl in min_samples_leafs:\n",
        "      model = DecisionTreeClassifier(max_depth=md, min_samples_split=mss, min_samples_leaf=msl, random_state=0)\n",
        "      model.fit(X_train, y_train)\n",
        "      test_score = model.score(X_test, y_test)\n",
        "      if max_score < test_score:\n",
        "        max_score = test_score\n",
        "        max_parameters['max_depth'] = md\n",
        "        max_parameters['min_samples_split'] = mss\n",
        "        max_parameters['min_samples_leaf'] = msl\n",
        "# 最大のスコアとなったパラメータの表示\n",
        "print(\"max_score = {}, max_parameters = {}\".format(max_score, max_parameters))\n",
        "\n",
        "# 最大のスコアとなったパラメータでスコアを確認\n",
        "model = DecisionTreeClassifier(max_depth=max_parameters['max_depth'], min_samples_split=max_parameters['min_samples_split'], min_samples_leaf=max_parameters['min_samples_leaf'])\n",
        "model.fit(X_train, y_train)\n",
        "train_score = model.score(X_train, y_train)\n",
        "test_score = model.score(X_test, y_test)\n",
        "print(\"train score: {}, test score: {}\".format(train_score, test_score))"
      ],
      "metadata": {
        "colab": {
          "base_uri": "https://localhost:8080/"
        },
        "id": "cz88U59SntSf",
        "outputId": "c43df1ac-05b7-4da9-c4f0-4f757bf25df8"
      },
      "execution_count": null,
      "outputs": [
        {
          "output_type": "stream",
          "name": "stdout",
          "text": [
            "max_score = 0.9370629370629371, max_parameters = {'max_depth': 2, 'min_samples_split': 2, 'min_samples_leaf': 1}\n",
            "train score: 0.9413145539906104, test score: 0.9370629370629371\n"
          ]
        }
      ]
    },
    {
      "cell_type": "markdown",
      "source": [
        "このように愚直に実装する方法でも最適なハイパーパラメータが探索できるが、\n",
        "\n",
        "探索するハイパーパラメータが4つ、5つと増え、さらに交差検証も行いながら...と考えると実装が大変となる。\n",
        "\n",
        "そのような探索をグリッドサーチと呼ぶが、実はグリッドサーチを行うためのクラスがscikit-learnに用意されている。\n",
        "\n",
        "下記にそのクラスを使ったコードの例を示す。"
      ],
      "metadata": {
        "id": "_4aAzH2YoMSP"
      }
    },
    {
      "cell_type": "code",
      "source": [
        "import numpy as np\n",
        "import matplotlib.pyplot as plt\n",
        "import pandas as pd\n",
        "from sklearn.model_selection import train_test_split\n",
        "from sklearn.model_selection import GridSearchCV\n",
        "from sklearn.tree import DecisionTreeClassifier\n",
        "\n",
        "df = pd.read_csv(\"breast_cancer.csv\")\n",
        "X = df.drop(\"target\", axis=1)\n",
        "y = df[\"target\"]\n",
        "X_train, X_test, y_train, y_test = train_test_split(X, y, test_size=0.25, random_state = 0)\n",
        "\n",
        "# グリッドサーチで探索するハイパーパラメータの設定\n",
        "params = {\n",
        "  'criterion': ['gini', 'entropy'],\n",
        "  'max_depth': [2, 3, 4],\n",
        "  'min_samples_split': [2, 3, 4],\n",
        "  'min_samples_leaf': [1, 2, 3]\n",
        "}\n",
        "\n",
        "# 分類木、上記のハイパーパラメータ、8-分割交差検証でグリッドサーチ\n",
        "gs = GridSearchCV(estimator=DecisionTreeClassifier(random_state=0), param_grid=params, cv=8)\n",
        "gs.fit(X_train, y_train) # 通常の学習器のようにメソッドが使える\n",
        "\n",
        "print(\"best_score = {}\".format(gs.best_score_)) # 最大スコア\n",
        "print(\"best_params = {}\".format(gs.best_params_)) # ベストなハイパーパラメータの組み合わせ\n",
        "print(\"test_score = {}\".format(gs.score(X_test, y_test))) # テストデータのスコア測定"
      ],
      "metadata": {
        "colab": {
          "base_uri": "https://localhost:8080/"
        },
        "id": "fBQkTt0aoSyy",
        "outputId": "83ed759b-7dde-42f1-8c9f-c5dc640145cf"
      },
      "execution_count": null,
      "outputs": [
        {
          "output_type": "stream",
          "name": "stdout",
          "text": [
            "best_score = 0.924746680642907\n",
            "best_params = {'criterion': 'entropy', 'max_depth': 3, 'min_samples_leaf': 3, 'min_samples_split': 2}\n",
            "test_score = 0.951048951048951\n"
          ]
        }
      ]
    },
    {
      "cell_type": "markdown",
      "source": [
        "GridSearchCV クラスがグリッドサーチを行うためのクラスである。\n",
        "\n",
        " (estimator=学習器, param_grid=パラメータの辞書, cv=k) を指定して初期化する。\n",
        "\n",
        "GridSearchCVのインスタンスは通常の学習器のようにメソッドが使え、\n",
        "\n",
        " .fit メソッドでestimatorで指定した学習器におけるparam_gridの全組み合わせを、\n",
        "\n",
        "cvで指定したk-分割交差検証を行いながら学習を行う。\n",
        "\n",
        "学習後、学習中の最大スコアを .best_score_ で、最適なハイパーパラメータの組み合わせを .best_params_ で取得できる。\n",
        "\n",
        "最後に、通常の学習器同様 .score メソッドを使ってテストデータをスコアを確認できる。"
      ],
      "metadata": {
        "id": "zsC6R_O6obY9"
      }
    },
    {
      "cell_type": "markdown",
      "source": [
        "# 2. 評価指標\n",
        "\n",
        "今まで学習モデルの .score メソッドにおいて、分類タスクであれば正解率、回帰タスクであれば決定係数が表示されていた。\n",
        "\n",
        "そのような指標のことを評価指標と呼ぶ。\n",
        "\n",
        "本章では、学習モデルの評価指標について紹介する。"
      ],
      "metadata": {
        "id": "KHDjj0UMomQJ"
      }
    },
    {
      "cell_type": "markdown",
      "source": [
        "## 2-1. 分類の評価指標"
      ],
      "metadata": {
        "id": "8cON18nDot6i"
      }
    },
    {
      "cell_type": "markdown",
      "source": [
        "### 正解率(accuracy)\n",
        "正解率は全データから正しく判定できたものの割合である。\n",
        "\n",
        "分類における .score メソッドの値で、predictの結果と accuracy_score 関数を利用して取得することもできる。"
      ],
      "metadata": {
        "id": "EKn69sRpox2p"
      }
    },
    {
      "cell_type": "code",
      "source": [
        "from sklearn.svm import SVC\n",
        "from sklearn.model_selection import train_test_split\n",
        "from sklearn.metrics import accuracy_score\n",
        "\n",
        "import pandas as pd\n",
        "\n",
        "df = pd.read_csv('breast_cancer.csv')\n",
        "\n",
        "X_train, X_test, y_train, y_test = train_test_split(df.drop(\"target\", axis=1) , df['target'], test_size = 0.25, random_state = 0)\n",
        "\n",
        "model = SVC()\n",
        "model.fit(X_train, y_train)\n",
        "\n",
        "print(model.score(X_test, y_test))\n",
        "\n",
        "y_pred = model.predict(X_test)\n",
        "accuracy = accuracy_score(y_test, y_pred)\n",
        "print(accuracy)"
      ],
      "metadata": {
        "colab": {
          "base_uri": "https://localhost:8080/"
        },
        "id": "eizxBkfzokAy",
        "outputId": "88a7d4f4-0a85-40ed-9681-e0bb141260b5"
      },
      "execution_count": null,
      "outputs": [
        {
          "output_type": "stream",
          "name": "stdout",
          "text": [
            "0.9370629370629371\n",
            "0.9370629370629371\n"
          ]
        }
      ]
    },
    {
      "cell_type": "markdown",
      "source": [
        "### 適合率(precision)\n",
        "\n",
        "適合率は正であると予測されたもののうち、実際に正であるものの割合である。\n",
        "\n",
        "predictの結果と precision_score 関数を利用して取得できる。"
      ],
      "metadata": {
        "id": "h_8iuXlJpAtA"
      }
    },
    {
      "cell_type": "code",
      "source": [
        "from sklearn.svm import SVC\n",
        "from sklearn.model_selection import train_test_split\n",
        "from sklearn.metrics import precision_score\n",
        "import pandas as pd\n",
        "\n",
        "df = pd.read_csv('breast_cancer.csv')\n",
        "X_train, X_test, y_train, y_test = train_test_split(df.drop(\"target\", axis=1) , df['target'], test_size = 0.25, random_state = 0)\n",
        "\n",
        "model = SVC()\n",
        "model.fit(X_train, y_train)\n",
        "\n",
        "y_pred = model.predict(X_test)\n",
        "precision = precision_score(y_test, y_pred)\n",
        "print(precision)"
      ],
      "metadata": {
        "colab": {
          "base_uri": "https://localhost:8080/"
        },
        "id": "Ia7ZV3rhpEyi",
        "outputId": "cfaed42d-deb7-44d9-8e20-111c85b6980e"
      },
      "execution_count": null,
      "outputs": [
        {
          "output_type": "stream",
          "name": "stdout",
          "text": [
            "0.9175257731958762\n"
          ]
        }
      ]
    },
    {
      "cell_type": "markdown",
      "source": [
        "### 再現率(recall)\n",
        "\n",
        "再現率は実際に正であるもののうち、正であると予測されたものの割合である。\n",
        "\n",
        "predictの結果と recall_score 関数を利用して取得できる。"
      ],
      "metadata": {
        "id": "J1AGSmeapKi_"
      }
    },
    {
      "cell_type": "code",
      "source": [
        "from sklearn.svm import SVC\n",
        "from sklearn.model_selection import train_test_split\n",
        "from sklearn.metrics import recall_score\n",
        "import pandas as pd\n",
        "\n",
        "df = pd.read_csv('breast_cancer.csv')\n",
        "X_train, X_test, y_train, y_test = train_test_split(df.drop(\"target\", axis=1) , df['target'], test_size = 0.25, random_state = 0)\n",
        "\n",
        "model = SVC()\n",
        "model.fit(X_train, y_train)\n",
        "\n",
        "y_pred = model.predict(X_test)\n",
        "recall = recall_score(y_test, y_pred)\n",
        "print(recall)"
      ],
      "metadata": {
        "colab": {
          "base_uri": "https://localhost:8080/"
        },
        "id": "RKn0_UpvpOx5",
        "outputId": "7a974763-19f4-42aa-d744-693308dcea70"
      },
      "execution_count": null,
      "outputs": [
        {
          "output_type": "stream",
          "name": "stdout",
          "text": [
            "0.9888888888888889\n"
          ]
        }
      ]
    },
    {
      "cell_type": "markdown",
      "source": [
        "### 適合率(precision)と再現率(recall)の選択\n",
        "\n",
        "適合率、再現率をどのようなケースで評価指標として選定すればよいか示す。\n",
        "\n",
        "**適合率を評価指標に選択する場合**\n",
        "\n",
        "適合率を評価指標に選択した方がよいケースは、誤っているものを正しいと判定することを避けたい場合である。\n",
        "\n",
        "例えば迷惑メール判定モデル(迷惑メールを迷\n",
        "惑メールと判定することが正しく、\n",
        "\n",
        "通常メールを迷惑メールと判定することが誤りのケース)が当てはまる。\n",
        "\n",
        "通常メールを迷惑メールと判定すると、通常メール\n",
        "を読めなくなる可能性があり、\n",
        "\n",
        "迷惑メールを見逃すことよりも避けたい。\n",
        "\n",
        "そういった場合、適合率に注目する。\n",
        "\n",
        "**再現率を評価指標に選択する場合**\n",
        "\n",
        "再現率を評価指標に選択した方が良いケースは、正しいもの見逃すことを避けたい場合である。\n",
        "\n",
        "例えば癌の判定モデルが当てはまる。\n",
        "\n",
        "患者が本来は癌であるのに癌ではないと判定した場合に、患者の治療が遅れ命に関わる可能性がある。\n",
        "\n",
        "そのため、癌ではない患者を誤って癌と判定してしまうことよりも癌を見逃してしまうことの方を避けたくなる。\n",
        "\n",
        "そういった場合、再現率に注目する。\n",
        "\n"
      ],
      "metadata": {
        "id": "ya-mJYfRpUuv"
      }
    },
    {
      "cell_type": "markdown",
      "source": [
        "### F1スコア\n",
        "\n",
        "適合率と再現率を利用した評価指標にF1スコアがある。F1スコアは下記の式で得られる。\n",
        "\n",
        "![image.png](data:image/png;base64,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)\n",
        "\n",
        "predictの結果と f1_score 関数を利用して取得できる。"
      ],
      "metadata": {
        "id": "YstIHsTdp3Rn"
      }
    },
    {
      "cell_type": "code",
      "source": [
        "from sklearn.svm import SVC\n",
        "from sklearn.model_selection import train_test_split\n",
        "from sklearn.metrics import f1_score\n",
        "import pandas as pd\n",
        "\n",
        "df = pd.read_csv('breast_cancer.csv')\n",
        "X_train, X_test, y_train, y_test = train_test_split(df.drop(\"target\", axis=1) , df['target'], test_size = 0.25, random_state = 0)\n",
        "\n",
        "model = SVC()\n",
        "model.fit(X_train, y_train)\n",
        "y_pred = model.predict(X_test)\n",
        "\n",
        "f1_score = f1_score(y_test, y_pred)\n",
        "print(f1_score)"
      ],
      "metadata": {
        "colab": {
          "base_uri": "https://localhost:8080/"
        },
        "id": "ZaBeJIJ4pmIt",
        "outputId": "72feef11-5d2b-4fec-965d-cb562149dc54"
      },
      "execution_count": null,
      "outputs": [
        {
          "output_type": "stream",
          "name": "stdout",
          "text": [
            "0.9518716577540107\n"
          ]
        }
      ]
    },
    {
      "cell_type": "markdown",
      "source": [
        "### AUC、ROC曲線\n",
        "\n",
        "AUC(Area Under the Curve)はROC(Receiver Operating Characteristic)曲線の積分で計算される値のことである。\n",
        "\n",
        "値が1に近いほどモデルの予測能力が高く、0.5に近いほどモデルの予測能力が低くなる。\n",
        "\n",
        "最も悪い0.5の場合はランダムに判別することと同じ意味となる。\n",
        "\n",
        "AUCはpredictの結果と roc_auc_score 関数を利用して取得できる。"
      ],
      "metadata": {
        "id": "M0cUn-cVqW-T"
      }
    },
    {
      "cell_type": "code",
      "source": [
        "from sklearn.svm import SVC\n",
        "from sklearn.model_selection import train_test_split\n",
        "from sklearn.metrics import roc_curve, roc_auc_score\n",
        "import matplotlib.pyplot as plt\n",
        "import pandas as pd\n",
        "\n",
        "df = pd.read_csv('breast_cancer.csv')\n",
        "X_train, X_test, y_train, y_test = train_test_split(df.drop(\"target\", axis=1) , df['target'], test_size = 0.25, random_state = 0)\n",
        "\n",
        "model = SVC()\n",
        "model.fit(X_train, y_train)\n",
        "\n",
        "y_pred = model.predict(X_test)\n",
        "auc = roc_auc_score(y_test, y_pred)\n",
        "print(auc)"
      ],
      "metadata": {
        "colab": {
          "base_uri": "https://localhost:8080/"
        },
        "id": "cvexOY5DqeYd",
        "outputId": "17af457d-eb90-4587-b520-159e5ff80f89"
      },
      "execution_count": null,
      "outputs": [
        {
          "output_type": "stream",
          "name": "stdout",
          "text": [
            "0.9189727463312369\n"
          ]
        }
      ]
    },
    {
      "cell_type": "markdown",
      "source": [
        "AUCの値の高さは、分類タスクの判別能力が高いことを意味する。"
      ],
      "metadata": {
        "id": "aHHyvRETqlTg"
      }
    },
    {
      "cell_type": "markdown",
      "source": [
        "## 2-2. 不均衡データとAUCの活用\n",
        "\n",
        "不均衡データとは、分類タスクにおいて目的変数の分布に極端な偏りがあるデータのことを指す。\n",
        "\n",
        "例えば、不良品を判定するモデルを作成したい場合を考えると、仮に不良品率が0.01%であれば、\n",
        "\n",
        "全て良品と答えれば、正解率(Accuracy)が99.99%ということになる。\n",
        "\n",
        "その際、実際に不良品であるデータを一つも当てれなかったと言うことになるため、\n",
        "\n",
        "再現率(Recall)は0となる。\n",
        "\n",
        "そういった不均衡データの場合でも耐えられる指標がAUCとなっており、実際に使われることが多い。"
      ],
      "metadata": {
        "id": "7Fq2SeNBqoZ3"
      }
    },
    {
      "cell_type": "markdown",
      "source": [
        "実際に breast_cancer_imbalance.csv を用いて説明する。このデータセットは、\n",
        "\n",
        "breast_cancer.csv の目的変数が悪性(0)の行を意図的に削ったデータとなっている。\n",
        "\n",
        "全400件のうち、良性が354件となっており、全て良性と予測しても正解率が 354/400 = 0.885 となる。\n",
        "\n",
        "そのため、正解率だけを見るのは不適切となる。"
      ],
      "metadata": {
        "id": "NOjjKksaq3fO"
      }
    },
    {
      "cell_type": "markdown",
      "source": [
        "breast_cancer_imbalance.csvは[ここ](https://github.com/TokitsuKotaro/MachineLearningLesson/blob/main/breast_cancer_imbalance.csv)からダウンロードできる。"
      ],
      "metadata": {
        "id": "GXPrDtMQx_Hl"
      }
    },
    {
      "cell_type": "markdown",
      "source": [
        "上記を考慮した具体的な実装について説明する。\n",
        "\n",
        "GridSearchCVの引数に\n",
        "\n",
        " scoring='評価指標を表す文字列' を指定すると、\n",
        "\n",
        " その評価指標で交差検証を行う。\n",
        "\n",
        " これを利用し、その評価指標における最適なハイパーパラメータの探索が行える。\n",
        "\n",
        " 下記にコードを示す。"
      ],
      "metadata": {
        "id": "FPUvp-R-rLeC"
      }
    },
    {
      "cell_type": "code",
      "source": [
        "import numpy as np\n",
        "import matplotlib.pyplot as plt\n",
        "import pandas as pd\n",
        "from sklearn.model_selection import train_test_split\n",
        "from sklearn.model_selection import GridSearchCV\n",
        "from sklearn.tree import DecisionTreeClassifier\n",
        "from sklearn.metrics import roc_auc_score\n",
        "\n",
        "df = pd.read_csv(\"breast_cancer_imbalance.csv\")\n",
        "X = df.drop(\"target\", axis=1)\n",
        "y = df[\"target\"]\n",
        "X_train, X_test, y_train, y_test = train_test_split(X, y, test_size=0.25, random_state=0)\n",
        "\n",
        "# グリッドサーチで最適なハイパーパラメータを探索\n",
        "params = {\n",
        "  'criterion': ['gini', 'entropy'],\n",
        "  'max_depth': [2, 3, 4],\n",
        "  'min_samples_split': [2, 3, 4],\n",
        "  'min_samples_leaf': [1, 2, 3]\n",
        "}\n",
        "\n",
        "k = 6\n",
        "\n",
        "print(\"[Accuracy]\")\n",
        "\n",
        "gs = GridSearchCV(estimator=DecisionTreeClassifier(random_state=0), param_grid=params, cv=k)\n",
        "gs.fit(X_train, y_train)\n",
        "y_predict = gs.predict(X_test)\n",
        "print(\"best_score = {}\".format(gs.best_score_))\n",
        "print(\"best_params = {}\".format(gs.best_params_))\n",
        "print(\"train_score = {}\".format(gs.score(X_train, y_train)))\n",
        "print(\"test_score = {}\".format(gs.score(X_test, y_test)))\n",
        "print(\"AUC score: {}\".format(roc_auc_score(y_predict, y_test)))\n",
        "\n",
        "print(\"[AUC]\")\n",
        "gs = GridSearchCV(estimator=DecisionTreeClassifier(random_state=0), param_grid=params, scoring='roc_auc', cv=k)\n",
        "gs.fit(X_train, y_train)\n",
        "y_predict = gs.predict(X_test)\n",
        "print(\"best_score = {}\".format(gs.best_score_))\n",
        "print(\"best_params = {}\".format(gs.best_params_))\n",
        "print(\"train_score = {}\".format(gs.score(X_train, y_train)))\n",
        "print(\"test_score = {}\".format(gs.score(X_test, y_test)))\n",
        "print(\"AUC score: {}\".format(roc_auc_score(y_predict, y_test)))"
      ],
      "metadata": {
        "colab": {
          "base_uri": "https://localhost:8080/"
        },
        "id": "apSM9HC_qm0E",
        "outputId": "f44925f1-bbdc-4d3e-b27a-7ea7a01eebbf"
      },
      "execution_count": null,
      "outputs": [
        {
          "output_type": "stream",
          "name": "stdout",
          "text": [
            "[Accuracy]\n",
            "best_score = 0.9633333333333334\n",
            "best_params = {'criterion': 'gini', 'max_depth': 3, 'min_samples_leaf': 1, 'min_samples_split': 2}\n",
            "train_score = 0.9766666666666667\n",
            "test_score = 0.96\n",
            "AUC score: 0.8641304347826088\n",
            "[AUC]\n",
            "best_score = 0.9151701818852982\n",
            "best_params = {'criterion': 'entropy', 'max_depth': 3, 'min_samples_leaf': 1, 'min_samples_split': 2}\n",
            "train_score = 0.9930192848533548\n",
            "test_score = 0.984375\n",
            "AUC score: 0.8833943833943834\n"
          ]
        }
      ]
    },
    {
      "cell_type": "markdown",
      "source": [
        "通常のGridSearchCVと、 scoring='roc_auc' を指定したGridSearchCVで分類木を作成し、\n",
        "\n",
        "グリッドサーチを行っている。best_scoreはGridSearchCVで指定した評価指標、train/test scoreは\n",
        "\n",
        "元々学習アルゴリズムが持っている正解率である。\n",
        "\n",
        "この結果を見ると、AUCを評価指標としたことにより、AUCがベストなパラメータを探索できただけでなく、\n",
        "\n",
        "不均衡データの正解率にもプラスの影響を与えていることがわかる。"
      ],
      "metadata": {
        "id": "x2lmURQ3rhO6"
      }
    },
    {
      "cell_type": "markdown",
      "source": [
        "## 2-3. 回帰の評価指標\n",
        "\n",
        "回帰モデルの評価指標を紹介する。\n",
        "\n"
      ],
      "metadata": {
        "id": "zRpDshBbrpE1"
      }
    },
    {
      "cell_type": "markdown",
      "source": [
        "### 平均二乗誤差\n",
        "\n",
        "サンプルの予測値と正解の差の二乗の平均値である。\n",
        "\n",
        "シンプルで分かりやすいため、さまざまなアルゴリズムの性能指標に使用される。\n",
        "\n",
        "GridSearchCVで利用する場合scoringに neg_mean_squared_error を指定する。"
      ],
      "metadata": {
        "id": "lqgXgsNErxil"
      }
    },
    {
      "cell_type": "markdown",
      "source": [
        "### 平均絶対誤差\n",
        "\n",
        "サンプルの予測値と正解の差の絶対値の平均値である。\n",
        "\n",
        "平均二乗誤差を比較すると2乗していないため外れ値に強い傾向にある。\n",
        "\n",
        "GridSearchCVで利用する場合scoringに neg_mean_absolute_error を指定する。"
      ],
      "metadata": {
        "id": "vSgnI_G2r5M8"
      }
    },
    {
      "cell_type": "markdown",
      "source": [
        "### 中央絶対誤差\n",
        "サンプルの予測値と正解の差の絶対値の中央値である。\n",
        "\n",
        "平均絶対誤差よりもさらに外れ値に強い傾向にある。\n",
        "\n",
        "GridSearchCVで利用する場合scoringに neg_median_absolute_error を指定する。\n"
      ],
      "metadata": {
        "id": "zwmbWxecsAdG"
      }
    },
    {
      "cell_type": "markdown",
      "source": [
        "### 決定係数\n",
        "検証データの平均値で予測をした場合の残差平方和とモデルの残差平方和の比率で表す。\n",
        "\n",
        "説明変数が目的変数をどれくらい説明できているかを示す指標である。\n",
        "\n",
        "通常0から1の値を取る。1に近いほど良い値である。負になる可能性もある。\n",
        "\n",
        "GridSearchCVで利用する場合scoringに r2 を指定する。"
      ],
      "metadata": {
        "id": "gaktMQ65sLAq"
      }
    },
    {
      "cell_type": "markdown",
      "source": [
        "# 3. アンサンブル学習\n",
        "\n",
        "教師あり学習の発展的なアルゴリズムとしてアンサンブル学習がある。\n",
        "\n",
        "アンサンブル学習とは、複数の学習器を組み合わせて1つの学習モデルを構築する手法である。\n",
        "\n",
        "単一のアルゴリズムでは到達できない高い精度を出せる可能性があり、精度を追求するケースにおいて\n",
        "\n",
        "良く使われる実践的な手法となる。\n",
        "\n",
        "具体的な手法として、バギングとブースティングに分けられる。"
      ],
      "metadata": {
        "id": "teRhtrqysUS0"
      }
    },
    {
      "cell_type": "markdown",
      "source": [
        "## 3-1. バギング\n",
        "\n",
        "バギングはbootstrap aggregatingの略。\n",
        "\n",
        "学習データの一部を復元抽出(重複を許して抽出)して学習モデルを複数構築し、\n",
        "\n",
        "それらのモデルの多数決(分類タスク)や平均値(回帰タスク)で予測を行う。\n",
        "\n",
        "一般に、過学習傾向にある時バギングによって汎化性能を向上させる可能性がある。\n",
        "\n",
        "下記に、 breast_cancer.csv の分類タスクをバギングを用いて記述した例を示す。"
      ],
      "metadata": {
        "id": "e764bm4osg4S"
      }
    },
    {
      "cell_type": "code",
      "source": [
        "import numpy as np\n",
        "import matplotlib.pyplot as plt\n",
        "import pandas as pd\n",
        "\n",
        "from sklearn.model_selection import train_test_split\n",
        "from sklearn.tree import DecisionTreeClassifier\n",
        "from sklearn.ensemble import BaggingClassifier\n",
        "\n",
        "df = pd.read_csv(\"breast_cancer.csv\")\n",
        "X = df.drop(\"target\", axis=1)\n",
        "y = df[\"target\"]\n",
        "X_train, X_test, y_train, y_test = train_test_split(X, y, test_size=0.25, random_state = 0)\n",
        "\n",
        "# 通常の決定木(分類木)でモデル構築\n",
        "model = DecisionTreeClassifier(random_state=0)\n",
        "model.fit(X_train, y_train)\n",
        "train_score = model.score(X_train, y_train)\n",
        "test_score = model.score(X_test, y_test)\n",
        "print(\"DecisionTreeClassifier: train score = {}, test score = {}\".format(train_score, test_score))\n",
        "\n",
        "# 決定木10個を用いたバギングでモデル構築\n",
        "model = BaggingClassifier(DecisionTreeClassifier(random_state=0), n_estimators=10, random_state=0)\n",
        "model.fit(X_train, y_train)\n",
        "train_score = model.score(X_train, y_train)\n",
        "test_score = model.score(X_test, y_test)\n",
        "print(\"BaggingClassifier: train score = {}, test score = {}\".format(train_score, test_score))"
      ],
      "metadata": {
        "colab": {
          "base_uri": "https://localhost:8080/"
        },
        "id": "lzgw_iw3rnjD",
        "outputId": "3a32eb78-aa0a-4b23-d39d-8e857e5c0cf1"
      },
      "execution_count": null,
      "outputs": [
        {
          "output_type": "stream",
          "name": "stdout",
          "text": [
            "DecisionTreeClassifier: train score = 1.0, test score = 0.8811188811188811\n",
            "BaggingClassifier: train score = 0.9929577464788732, test score = 0.972027972027972\n"
          ]
        }
      ]
    },
    {
      "cell_type": "markdown",
      "source": [
        "分類タスクにおけるバギングは、 BaggingClassifier クラス(回帰の場合は BaggingRegressor )を利用する。\n",
        "\n",
        "学習器、学習器の個数(n_estimators)などを指定する。使い方は通常の学習器と同様で、\n",
        "\n",
        "結果を見ると高い精度が出ていることがわかる。"
      ],
      "metadata": {
        "id": "coUgYvvbsy5Z"
      }
    },
    {
      "cell_type": "markdown",
      "source": [
        "### ランダムフォレスト\n",
        "\n",
        "ランダムフォレストはバギングにおける代表的なアルゴリズムで、決定木をベースとしたバギングとなっている。\n",
        "\n",
        "分類タスクは RandomForestClassifier クラス、\n",
        "回帰タスクは RandomForestRegressor クラスを利用する。\n",
        "\n",
        "下記に breast_cancer.csv の分類タスクをランダムフォレストで学習する例を示す。"
      ],
      "metadata": {
        "id": "6k_dFoHNs35e"
      }
    },
    {
      "cell_type": "code",
      "source": [
        "import numpy as np\n",
        "import matplotlib.pyplot as plt\n",
        "import pandas as pd\n",
        "from sklearn.model_selection import train_test_split\n",
        "from sklearn.model_selection import GridSearchCV\n",
        "from sklearn.tree import DecisionTreeClassifier\n",
        "from sklearn.ensemble import RandomForestClassifier\n",
        "\n",
        "df = pd.read_csv(\"breast_cancer.csv\")\n",
        "\n",
        "X = df.drop(\"target\", axis=1)\n",
        "y = df[\"target\"]\n",
        "X_train, X_test, y_train, y_test = train_test_split(X, y, test_size=0.25, random_state = 0)\n",
        "\n",
        "# ランダムフォレストでモデル構築\n",
        "model = RandomForestClassifier(random_state=0)\n",
        "model.fit(X_train, y_train)\n",
        "train_score = model.score(X_train, y_train)\n",
        "test_score = model.score(X_test, y_test)\n",
        "print(\"RandomForestClassifier: train score = {}, test score = {}\".format(train_score, test_score))\n",
        "\n",
        "# グリッドサーチで最適なハイパーパラメータを探索\n",
        "params = {\n",
        "  'n_estimators': [25, 50, 75, 100],\n",
        "  'max_depth': [2, 3, 4, 5]\n",
        "}\n",
        "gs = GridSearchCV(estimator=RandomForestClassifier(random_state=0), param_grid=params, cv=8)\n",
        "gs.fit(X_train, y_train)\n",
        "\n",
        "print(\"best_score = {}\".format(gs.best_score_))\n",
        "print(\"best_params = {}\".format(gs.best_params_))\n",
        "print(\"train_score = {}\".format(gs.score(X_train, y_train)))\n",
        "print(\"test_score = {}\".format(gs.score(X_test, y_test)))"
      ],
      "metadata": {
        "colab": {
          "base_uri": "https://localhost:8080/"
        },
        "id": "AmeywsWns2LA",
        "outputId": "6857f6ab-0bff-4895-d310-caa8318c6547"
      },
      "execution_count": null,
      "outputs": [
        {
          "output_type": "stream",
          "name": "stdout",
          "text": [
            "RandomForestClassifier: train score = 1.0, test score = 0.972027972027972\n",
            "best_score = 0.9530048916841369\n",
            "best_params = {'max_depth': 4, 'n_estimators': 75}\n",
            "train_score = 0.9929577464788732\n",
            "test_score = 0.972027972027972\n"
          ]
        }
      ]
    },
    {
      "cell_type": "markdown",
      "source": [
        "ランダムフォレストとグリッドサーチの組み合わせは実用的な学習方法の一つとなる。\n",
        "\n",
        "その他ハイパーパラメータの詳細は公式サイトを参考。\n",
        "\n",
        "https://scikit-learn.org/stable/modules/generated/sklearn.ensemble.RandomForestClassifier.html"
      ],
      "metadata": {
        "id": "5ABU7fC2tKSi"
      }
    },
    {
      "cell_type": "markdown",
      "source": [
        "## 3-2. ブースティング\n",
        "\n",
        "ブースティングはまず元の学習データに対して学習を行い学習モデルを生成、\n",
        "\n",
        "次に正解から外したデータを重視するように学習を行い学習モデルを生成、\n",
        "\n",
        "さらにその次は一つ前に外したデータを重視するように学習を行い学習モデルを生成...という具合に\n",
        "\n",
        "学習モデルの生成を次々と行い、それらの学習モデルを総合して予測を行う。\n",
        "\n",
        "一般に、適合不足傾向にある時ブースティングによって汎化性能を向上させる可能性がある。\n",
        "\n",
        "下記に、 boston.csv の回帰タスクをブースティングを用いて記述した例を示す。"
      ],
      "metadata": {
        "id": "XhlSJyLBtRlb"
      }
    },
    {
      "cell_type": "markdown",
      "source": [
        "boston.csvは[ここ](https://github.com/TokitsuKotaro/MachineLearningLesson/blob/main/boston.csv)からダウンロードできる。"
      ],
      "metadata": {
        "id": "1UFo2fEkyVKU"
      }
    },
    {
      "cell_type": "code",
      "source": [
        "import numpy as np\n",
        "import matplotlib.pyplot as plt\n",
        "import pandas as pd\n",
        "from sklearn.model_selection import train_test_split\n",
        "from sklearn.tree import DecisionTreeRegressor\n",
        "from sklearn.ensemble import AdaBoostRegressor\n",
        "\n",
        "df = pd.read_csv(\"boston.csv\")\n",
        "X = df.drop(\"house prices\", axis=1)\n",
        "y = df[\"house prices\"]\n",
        "X_train, X_test, y_train, y_test = train_test_split(X, y, random_state = 0)\n",
        "\n",
        "# 通常の決定木(回帰木)でモデル構築\n",
        "model = DecisionTreeRegressor(random_state=0)\n",
        "model.fit(X_train, y_train)\n",
        "train_score = model.score(X_train, y_train)\n",
        "test_score = model.score(X_test, y_test)\n",
        "print(\"DecisionTreeRegressor: train score = {}, test score = {}\".format(train_score, test_score))\n",
        "\n",
        "# 回帰木10個を用いたブースティングでモデル構築\n",
        "model = AdaBoostRegressor(DecisionTreeRegressor(random_state=0), n_estimators=10, random_state=0)\n",
        "model.fit(X_train, y_train)\n",
        "train_score = model.score(X_train, y_train)\n",
        "test_score = model.score(X_test, y_test)\n",
        "print(\"AdaBoostRegressor: train score = {}, test score = {}\".format(train_score, test_score))"
      ],
      "metadata": {
        "colab": {
          "base_uri": "https://localhost:8080/"
        },
        "id": "hv_OAtfPtMNw",
        "outputId": "7acc170a-1d5a-428b-b17d-b425136f34a9"
      },
      "execution_count": null,
      "outputs": [
        {
          "output_type": "stream",
          "name": "stdout",
          "text": [
            "DecisionTreeRegressor: train score = 1.0, test score = 0.6473101995864959\n",
            "AdaBoostRegressor: train score = 0.9977282442769123, test score = 0.750627783484337\n"
          ]
        }
      ]
    },
    {
      "cell_type": "markdown",
      "source": [
        "回帰タスクにおけるブースティングは、 AdaBoostRegressor クラス(分類の場合は AdaBoostClassifier )を利用する。\n",
        "\n",
        "学習器、学習器の個数(n_estimators)などを指定する。\n",
        "\n",
        "使い方は通常の学習器と同様で、結果を見ると高い精度が出ていることがわかる(前回の講義内では0.68前後が最高精度)。\n",
        "\n",
        "ただし、訓練データのスコアを見るとわかる通り、この結果は過学習傾向にある点に注意が必要。"
      ],
      "metadata": {
        "id": "ozIjkfwOtlA5"
      }
    },
    {
      "cell_type": "markdown",
      "source": [
        "### 勾配ブースティング\n",
        "\n",
        "勾配ブースティングはブースティングにおける代表的なアルゴリズムで、\n",
        "\n",
        "決定木をベースとしたブースティングとなっている。\n",
        "\n",
        "分類タスクはGradientBoostingClassifierクラス、\n",
        "\n",
        "回帰タスクはGradientBoostingRegressorクラスを利用する。\n",
        "\n",
        "下記にboston.csvの回帰タスクを勾配ブースティングで学\n",
        "習する例を示す。"
      ],
      "metadata": {
        "id": "OwzH0-tNts_M"
      }
    },
    {
      "cell_type": "code",
      "source": [
        "import numpy as np\n",
        "import matplotlib.pyplot as plt\n",
        "import pandas as pd\n",
        "from sklearn.model_selection import train_test_split\n",
        "from sklearn.model_selection import GridSearchCV\n",
        "from sklearn.tree import DecisionTreeRegressor\n",
        "from sklearn.ensemble import GradientBoostingRegressor\n",
        "\n",
        "df = pd.read_csv(\"boston.csv\")\n",
        "X = df.drop(\"house prices\", axis=1)\n",
        "y = df[\"house prices\"]\n",
        "X_train, X_test, y_train, y_test = train_test_split(X, y, random_state = 0)\n",
        "\n",
        "# 勾配ブースティングでモデル構築\n",
        "model = GradientBoostingRegressor(random_state=0)\n",
        "model.fit(X_train, y_train)\n",
        "train_score = model.score(X_train, y_train)\n",
        "test_score = model.score(X_test, y_test)\n",
        "print(\"GradientBoostingRegressor: train score = {}, test score = {}\".format(train_score, test_score))\n",
        "\n",
        "# グリッドサーチで最適なパラメータを探索\n",
        "params = {\n",
        "  'n_estimators': [100, 200, 300],\n",
        "  'max_depth': [3, 4, 5]\n",
        "}\n",
        "gs = GridSearchCV(estimator=GradientBoostingRegressor(random_state=0), param_grid=params, cv=5)\n",
        "gs.fit(X_train, y_train)\n",
        "\n",
        "print(\"best_score = {}\".format(gs.best_score_))\n",
        "print(\"best_params = {}\".format(gs.best_params_))\n",
        "print(\"train_score = {}\".format(gs.score(X_train, y_train)))\n",
        "print(\"test_score = {}\".format(gs.score(X_test, y_test)))"
      ],
      "metadata": {
        "colab": {
          "base_uri": "https://localhost:8080/"
        },
        "id": "MS5fTXoCtqKs",
        "outputId": "bd02e321-87e6-46e7-9c26-5f75bfc940e9"
      },
      "execution_count": null,
      "outputs": [
        {
          "output_type": "stream",
          "name": "stdout",
          "text": [
            "GradientBoostingRegressor: train score = 0.9802418805686561, test score = 0.8272523717843239\n",
            "best_score = 0.8670728750811711\n",
            "best_params = {'max_depth': 3, 'n_estimators': 200}\n",
            "train_score = 0.9924061017068653\n",
            "test_score = 0.8363791011862731\n"
          ]
        }
      ]
    },
    {
      "cell_type": "markdown",
      "source": [
        "ランダムフォレスト同様、勾配ブースティングとグリッドサーチの組み合わせは実用的な学習方法の一つとなる。\n",
        "\n",
        "その他ハイパーパラメータの詳細は公式サイトを参考。\n",
        "\n",
        "https://scikit-learn.org/stable/modules/generated/sklearn.ensemble.GradientBoostingRegressor.html"
      ],
      "metadata": {
        "id": "badcxQVkt-MI"
      }
    },
    {
      "cell_type": "markdown",
      "source": [
        "## 3-3. バギング、ブースティングにおけるグリッドサーチ\n",
        "\n",
        "ランダムフォレストや勾配ブースティングは単一のアルゴリズムとして振舞うため、\n",
        "\n",
        "グリッドサーチがそのまま使えるが、BaggingClassifierや\n",
        "AdaBoostRegressorのように学習器を設定する場合に、\n",
        "\n",
        "その学習器のハイパーパラメータをチューニングするためにグリッドサーチを使いたいケースが考えられる。\n",
        "\n",
        "そういった場合、下記のように記述する。"
      ],
      "metadata": {
        "id": "xPvJZgDnuDFY"
      }
    },
    {
      "cell_type": "code",
      "source": [
        "import numpy as np\n",
        "import matplotlib.pyplot as plt\n",
        "import pandas as pd\n",
        "from sklearn.model_selection import train_test_split\n",
        "from sklearn.model_selection import GridSearchCV\n",
        "from sklearn.tree import DecisionTreeRegressor\n",
        "from sklearn.ensemble import AdaBoostRegressor\n",
        "\n",
        "df = pd.read_csv(\"boston.csv\")\n",
        "X = df.drop(\"house prices\", axis=1)\n",
        "y = df[\"house prices\"]\n",
        "X_train, X_test, y_train, y_test = train_test_split(X, y, random_state = 0)\n",
        "\n",
        "# base_estimator__をつけるとアンサンブル学習の中身の学習器にパラメータが渡される\n",
        "params = {\n",
        "  'base_estimator__max_depth' : [2, 3],\n",
        "  'n_estimators' : [50, 100]\n",
        "}\n",
        "gs = GridSearchCV(AdaBoostRegressor(DecisionTreeRegressor(random_state=0)), param_grid=params, cv=10)\n",
        "gs.fit(X_train, y_train)\n",
        "\n",
        "print(\"best_score = {}\".format(gs.best_score_))\n",
        "print(\"best_params = {}\".format(gs.best_params_))\n",
        "print(\"train_score = {}\".format(gs.score(X_train, y_train)))\n",
        "print(\"test_score = {}\".format(gs.score(X_test, y_test)))"
      ],
      "metadata": {
        "colab": {
          "base_uri": "https://localhost:8080/"
        },
        "id": "cmlanyzyt_ta",
        "outputId": "b04b797f-66b0-4dc8-af38-dc4a2dbbb77e"
      },
      "execution_count": null,
      "outputs": [
        {
          "output_type": "stream",
          "name": "stderr",
          "text": [
            "/usr/local/lib/python3.10/dist-packages/sklearn/model_selection/_validation.py:674: FutureWarning: Parameter 'base_estimator' of AdaBoostRegressor is deprecated in favor of 'estimator'. See AdaBoostRegressor's docstring for more details.\n",
            "  estimator = estimator.set_params(**cloned_parameters)\n",
            "/usr/local/lib/python3.10/dist-packages/sklearn/model_selection/_validation.py:674: FutureWarning: Parameter 'base_estimator' of AdaBoostRegressor is deprecated in favor of 'estimator'. See AdaBoostRegressor's docstring for more details.\n",
            "  estimator = estimator.set_params(**cloned_parameters)\n",
            "/usr/local/lib/python3.10/dist-packages/sklearn/model_selection/_validation.py:674: FutureWarning: Parameter 'base_estimator' of AdaBoostRegressor is deprecated in favor of 'estimator'. See AdaBoostRegressor's docstring for more details.\n",
            "  estimator = estimator.set_params(**cloned_parameters)\n",
            "/usr/local/lib/python3.10/dist-packages/sklearn/model_selection/_validation.py:674: FutureWarning: Parameter 'base_estimator' of AdaBoostRegressor is deprecated in favor of 'estimator'. See AdaBoostRegressor's docstring for more details.\n",
            "  estimator = estimator.set_params(**cloned_parameters)\n",
            "/usr/local/lib/python3.10/dist-packages/sklearn/model_selection/_validation.py:674: FutureWarning: Parameter 'base_estimator' of AdaBoostRegressor is deprecated in favor of 'estimator'. See AdaBoostRegressor's docstring for more details.\n",
            "  estimator = estimator.set_params(**cloned_parameters)\n",
            "/usr/local/lib/python3.10/dist-packages/sklearn/model_selection/_validation.py:674: FutureWarning: Parameter 'base_estimator' of AdaBoostRegressor is deprecated in favor of 'estimator'. See AdaBoostRegressor's docstring for more details.\n",
            "  estimator = estimator.set_params(**cloned_parameters)\n",
            "/usr/local/lib/python3.10/dist-packages/sklearn/model_selection/_validation.py:674: FutureWarning: Parameter 'base_estimator' of AdaBoostRegressor is deprecated in favor of 'estimator'. See AdaBoostRegressor's docstring for more details.\n",
            "  estimator = estimator.set_params(**cloned_parameters)\n",
            "/usr/local/lib/python3.10/dist-packages/sklearn/model_selection/_validation.py:674: FutureWarning: Parameter 'base_estimator' of AdaBoostRegressor is deprecated in favor of 'estimator'. See AdaBoostRegressor's docstring for more details.\n",
            "  estimator = estimator.set_params(**cloned_parameters)\n",
            "/usr/local/lib/python3.10/dist-packages/sklearn/model_selection/_validation.py:674: FutureWarning: Parameter 'base_estimator' of AdaBoostRegressor is deprecated in favor of 'estimator'. See AdaBoostRegressor's docstring for more details.\n",
            "  estimator = estimator.set_params(**cloned_parameters)\n",
            "/usr/local/lib/python3.10/dist-packages/sklearn/model_selection/_validation.py:674: FutureWarning: Parameter 'base_estimator' of AdaBoostRegressor is deprecated in favor of 'estimator'. See AdaBoostRegressor's docstring for more details.\n",
            "  estimator = estimator.set_params(**cloned_parameters)\n",
            "/usr/local/lib/python3.10/dist-packages/sklearn/model_selection/_validation.py:674: FutureWarning: Parameter 'base_estimator' of AdaBoostRegressor is deprecated in favor of 'estimator'. See AdaBoostRegressor's docstring for more details.\n",
            "  estimator = estimator.set_params(**cloned_parameters)\n",
            "/usr/local/lib/python3.10/dist-packages/sklearn/model_selection/_validation.py:674: FutureWarning: Parameter 'base_estimator' of AdaBoostRegressor is deprecated in favor of 'estimator'. See AdaBoostRegressor's docstring for more details.\n",
            "  estimator = estimator.set_params(**cloned_parameters)\n",
            "/usr/local/lib/python3.10/dist-packages/sklearn/model_selection/_validation.py:674: FutureWarning: Parameter 'base_estimator' of AdaBoostRegressor is deprecated in favor of 'estimator'. See AdaBoostRegressor's docstring for more details.\n",
            "  estimator = estimator.set_params(**cloned_parameters)\n",
            "/usr/local/lib/python3.10/dist-packages/sklearn/model_selection/_validation.py:674: FutureWarning: Parameter 'base_estimator' of AdaBoostRegressor is deprecated in favor of 'estimator'. See AdaBoostRegressor's docstring for more details.\n",
            "  estimator = estimator.set_params(**cloned_parameters)\n",
            "/usr/local/lib/python3.10/dist-packages/sklearn/model_selection/_validation.py:674: FutureWarning: Parameter 'base_estimator' of AdaBoostRegressor is deprecated in favor of 'estimator'. See AdaBoostRegressor's docstring for more details.\n",
            "  estimator = estimator.set_params(**cloned_parameters)\n",
            "/usr/local/lib/python3.10/dist-packages/sklearn/model_selection/_validation.py:674: FutureWarning: Parameter 'base_estimator' of AdaBoostRegressor is deprecated in favor of 'estimator'. See AdaBoostRegressor's docstring for more details.\n",
            "  estimator = estimator.set_params(**cloned_parameters)\n",
            "/usr/local/lib/python3.10/dist-packages/sklearn/model_selection/_validation.py:674: FutureWarning: Parameter 'base_estimator' of AdaBoostRegressor is deprecated in favor of 'estimator'. See AdaBoostRegressor's docstring for more details.\n",
            "  estimator = estimator.set_params(**cloned_parameters)\n",
            "/usr/local/lib/python3.10/dist-packages/sklearn/model_selection/_validation.py:674: FutureWarning: Parameter 'base_estimator' of AdaBoostRegressor is deprecated in favor of 'estimator'. See AdaBoostRegressor's docstring for more details.\n",
            "  estimator = estimator.set_params(**cloned_parameters)\n",
            "/usr/local/lib/python3.10/dist-packages/sklearn/model_selection/_validation.py:674: FutureWarning: Parameter 'base_estimator' of AdaBoostRegressor is deprecated in favor of 'estimator'. See AdaBoostRegressor's docstring for more details.\n",
            "  estimator = estimator.set_params(**cloned_parameters)\n",
            "/usr/local/lib/python3.10/dist-packages/sklearn/model_selection/_validation.py:674: FutureWarning: Parameter 'base_estimator' of AdaBoostRegressor is deprecated in favor of 'estimator'. See AdaBoostRegressor's docstring for more details.\n",
            "  estimator = estimator.set_params(**cloned_parameters)\n",
            "/usr/local/lib/python3.10/dist-packages/sklearn/model_selection/_validation.py:674: FutureWarning: Parameter 'base_estimator' of AdaBoostRegressor is deprecated in favor of 'estimator'. See AdaBoostRegressor's docstring for more details.\n",
            "  estimator = estimator.set_params(**cloned_parameters)\n",
            "/usr/local/lib/python3.10/dist-packages/sklearn/model_selection/_validation.py:674: FutureWarning: Parameter 'base_estimator' of AdaBoostRegressor is deprecated in favor of 'estimator'. See AdaBoostRegressor's docstring for more details.\n",
            "  estimator = estimator.set_params(**cloned_parameters)\n",
            "/usr/local/lib/python3.10/dist-packages/sklearn/model_selection/_validation.py:674: FutureWarning: Parameter 'base_estimator' of AdaBoostRegressor is deprecated in favor of 'estimator'. See AdaBoostRegressor's docstring for more details.\n",
            "  estimator = estimator.set_params(**cloned_parameters)\n",
            "/usr/local/lib/python3.10/dist-packages/sklearn/model_selection/_validation.py:674: FutureWarning: Parameter 'base_estimator' of AdaBoostRegressor is deprecated in favor of 'estimator'. See AdaBoostRegressor's docstring for more details.\n",
            "  estimator = estimator.set_params(**cloned_parameters)\n",
            "/usr/local/lib/python3.10/dist-packages/sklearn/model_selection/_validation.py:674: FutureWarning: Parameter 'base_estimator' of AdaBoostRegressor is deprecated in favor of 'estimator'. See AdaBoostRegressor's docstring for more details.\n",
            "  estimator = estimator.set_params(**cloned_parameters)\n",
            "/usr/local/lib/python3.10/dist-packages/sklearn/model_selection/_validation.py:674: FutureWarning: Parameter 'base_estimator' of AdaBoostRegressor is deprecated in favor of 'estimator'. See AdaBoostRegressor's docstring for more details.\n",
            "  estimator = estimator.set_params(**cloned_parameters)\n",
            "/usr/local/lib/python3.10/dist-packages/sklearn/model_selection/_validation.py:674: FutureWarning: Parameter 'base_estimator' of AdaBoostRegressor is deprecated in favor of 'estimator'. See AdaBoostRegressor's docstring for more details.\n",
            "  estimator = estimator.set_params(**cloned_parameters)\n",
            "/usr/local/lib/python3.10/dist-packages/sklearn/model_selection/_validation.py:674: FutureWarning: Parameter 'base_estimator' of AdaBoostRegressor is deprecated in favor of 'estimator'. See AdaBoostRegressor's docstring for more details.\n",
            "  estimator = estimator.set_params(**cloned_parameters)\n",
            "/usr/local/lib/python3.10/dist-packages/sklearn/model_selection/_validation.py:674: FutureWarning: Parameter 'base_estimator' of AdaBoostRegressor is deprecated in favor of 'estimator'. See AdaBoostRegressor's docstring for more details.\n",
            "  estimator = estimator.set_params(**cloned_parameters)\n",
            "/usr/local/lib/python3.10/dist-packages/sklearn/model_selection/_validation.py:674: FutureWarning: Parameter 'base_estimator' of AdaBoostRegressor is deprecated in favor of 'estimator'. See AdaBoostRegressor's docstring for more details.\n",
            "  estimator = estimator.set_params(**cloned_parameters)\n",
            "/usr/local/lib/python3.10/dist-packages/sklearn/model_selection/_validation.py:674: FutureWarning: Parameter 'base_estimator' of AdaBoostRegressor is deprecated in favor of 'estimator'. See AdaBoostRegressor's docstring for more details.\n",
            "  estimator = estimator.set_params(**cloned_parameters)\n",
            "/usr/local/lib/python3.10/dist-packages/sklearn/model_selection/_validation.py:674: FutureWarning: Parameter 'base_estimator' of AdaBoostRegressor is deprecated in favor of 'estimator'. See AdaBoostRegressor's docstring for more details.\n",
            "  estimator = estimator.set_params(**cloned_parameters)\n",
            "/usr/local/lib/python3.10/dist-packages/sklearn/model_selection/_validation.py:674: FutureWarning: Parameter 'base_estimator' of AdaBoostRegressor is deprecated in favor of 'estimator'. See AdaBoostRegressor's docstring for more details.\n",
            "  estimator = estimator.set_params(**cloned_parameters)\n",
            "/usr/local/lib/python3.10/dist-packages/sklearn/model_selection/_validation.py:674: FutureWarning: Parameter 'base_estimator' of AdaBoostRegressor is deprecated in favor of 'estimator'. See AdaBoostRegressor's docstring for more details.\n",
            "  estimator = estimator.set_params(**cloned_parameters)\n",
            "/usr/local/lib/python3.10/dist-packages/sklearn/model_selection/_validation.py:674: FutureWarning: Parameter 'base_estimator' of AdaBoostRegressor is deprecated in favor of 'estimator'. See AdaBoostRegressor's docstring for more details.\n",
            "  estimator = estimator.set_params(**cloned_parameters)\n",
            "/usr/local/lib/python3.10/dist-packages/sklearn/model_selection/_validation.py:674: FutureWarning: Parameter 'base_estimator' of AdaBoostRegressor is deprecated in favor of 'estimator'. See AdaBoostRegressor's docstring for more details.\n",
            "  estimator = estimator.set_params(**cloned_parameters)\n",
            "/usr/local/lib/python3.10/dist-packages/sklearn/model_selection/_validation.py:674: FutureWarning: Parameter 'base_estimator' of AdaBoostRegressor is deprecated in favor of 'estimator'. See AdaBoostRegressor's docstring for more details.\n",
            "  estimator = estimator.set_params(**cloned_parameters)\n",
            "/usr/local/lib/python3.10/dist-packages/sklearn/model_selection/_validation.py:674: FutureWarning: Parameter 'base_estimator' of AdaBoostRegressor is deprecated in favor of 'estimator'. See AdaBoostRegressor's docstring for more details.\n",
            "  estimator = estimator.set_params(**cloned_parameters)\n",
            "/usr/local/lib/python3.10/dist-packages/sklearn/model_selection/_validation.py:674: FutureWarning: Parameter 'base_estimator' of AdaBoostRegressor is deprecated in favor of 'estimator'. See AdaBoostRegressor's docstring for more details.\n",
            "  estimator = estimator.set_params(**cloned_parameters)\n",
            "/usr/local/lib/python3.10/dist-packages/sklearn/model_selection/_validation.py:674: FutureWarning: Parameter 'base_estimator' of AdaBoostRegressor is deprecated in favor of 'estimator'. See AdaBoostRegressor's docstring for more details.\n",
            "  estimator = estimator.set_params(**cloned_parameters)\n",
            "/usr/local/lib/python3.10/dist-packages/sklearn/model_selection/_search.py:905: FutureWarning: Parameter 'base_estimator' of AdaBoostRegressor is deprecated in favor of 'estimator'. See AdaBoostRegressor's docstring for more details.\n",
            "  clone(base_estimator).set_params(**self.best_params_)\n"
          ]
        },
        {
          "output_type": "stream",
          "name": "stdout",
          "text": [
            "best_score = 0.8216954439066493\n",
            "best_params = {'base_estimator__max_depth': 3, 'n_estimators': 100}\n",
            "train_score = 0.9277495856301418\n",
            "test_score = 0.6993625854869358\n"
          ]
        }
      ]
    },
    {
      "cell_type": "markdown",
      "source": [
        "グリッドサーチのパラメータ設定の際、 base_estimator__ をつけるとBaggingClassifierや\n",
        "\n",
        "AdaBoostRegressorに設定した学習器の方でそのパラメータが探索される。"
      ],
      "metadata": {
        "id": "1ifSR6QBuUoo"
      }
    },
    {
      "cell_type": "markdown",
      "source": [
        "# 4. 演習および課題"
      ],
      "metadata": {
        "id": "i59iwPRjuY8o"
      }
    },
    {
      "cell_type": "markdown",
      "source": [
        "## 4-1. 演習"
      ],
      "metadata": {
        "id": "RvUaYPmGucrG"
      }
    },
    {
      "cell_type": "markdown",
      "source": [
        "### 演習1.\n",
        "\n",
        "breast_cancer_imbalance.csv の分類タスクについて、下記設定で学習モデルを構築せよ。\n",
        "\n",
        "- train_test_splitの設定:test_size=0.25, random_state=0\n",
        "\n",
        "- 学習アルゴリズム: GradientBoostingClassifier\n",
        "- グリッドサーチで探索するパラメータ: n_estimators を[50, 75, 100]、 max_depth を[2, 3, 4]\n",
        "- グリッドサーチのcv:8\n",
        "- グリッドサーチの評価指標:AUC\n",
        "- 出力:グリッドサーチの最高スコア、最適パラメータ、訓練データスコア、テストデータスコア、テストデータのAUC"
      ],
      "metadata": {
        "id": "9TI_JkXuufx9"
      }
    },
    {
      "cell_type": "markdown",
      "source": [
        "### 演習2.\n",
        "\n",
        "boston.csv の回帰タスクについて、下記設定で学習モデルを構築せよ。\n",
        "\n",
        "- train_test_splitの設定:test_size=0.25, random_state=0\n",
        "- 学習アルゴリズム: RandomForestRegressor\n",
        "- グリッドサーチで探索するパラメータ: n_estimators を[50, 75, 100]、 max_depth を[2, 3, 4]\n",
        "- グリッドサーチのcv:10\n",
        "- グリッドサーチの評価指標:決定係数( )\n",
        "- 出力:グリッドサーチの最高スコア、最適パラメータ、訓練データスコア、テストデータスコア"
      ],
      "metadata": {
        "id": "94RjUaZCuygi"
      }
    },
    {
      "cell_type": "markdown",
      "source": [
        "## 4-2. 課題"
      ],
      "metadata": {
        "id": "tT1mopnivBMe"
      }
    },
    {
      "cell_type": "markdown",
      "source": [
        "### 課題1.\n",
        "\n",
        "演習のタスクにおいて、train_test_splitの設定、グリッドサーチのcv、評価指標はそのままとし、\n",
        "\n",
        "アンサンブル学習の選択やハイパーパラメータのチューニングを行いモデルの精度を可能な限り高めよ。\n",
        "\n",
        "学習済みモデルをpickleを使い出力し、そのモデルとモデルを生成したコードを提出せよ。"
      ],
      "metadata": {
        "id": "4SsQzbpVvFQF"
      }
    }
  ]
}